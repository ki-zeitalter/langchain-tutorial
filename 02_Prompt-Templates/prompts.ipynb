{
 "cells": [
  {
   "cell_type": "markdown",
   "metadata": {},
   "source": [
    "# Vorbereitung\n",
    "\n",
    "Wenn noch nicht im ersten Teil ausgeführt, bitte zuerst folgende Bibliotheken installieren."
   ]
  },
  {
   "cell_type": "code",
   "execution_count": null,
   "metadata": {},
   "outputs": [],
   "source": [
    "%pip install langchain openai python-dotenv tiktoken"
   ]
  },
  {
   "cell_type": "markdown",
   "metadata": {},
   "source": [
    "# Prompts und Prompt-Templates\n",
    "\n",
    "Die Prompts (Eingaben) sind praktisch unsere einzige Möglichkeit mit der KI zu kommunizieren. Neben der eigentlichen Aufgabenstellung enthalten die Prompts ggfs. zusätzliche Informationen (Kontext). Das können Information, die dem Sprachmodell ermöglichen mit unseren Daten zu arbeiten (\"In context learning\"), die Chat-Historie uvm.\n",
    "Das bedeutet, dass es notwendig ist den Prompt programmatisch aufzubauen. LangChain bietet hierfür die Prompt-Templates an.\n",
    "Zuerst ein Beispiel ohne LangChain:"
   ]
  },
  {
   "cell_type": "code",
   "execution_count": null,
   "metadata": {},
   "outputs": [],
   "source": [
    "from langchain.chat_models import ChatOpenAI\n",
    "from langchain.prompts.chat import SystemMessage, HumanMessage\n",
    "\n",
    "system_prompt = \"Du bist ein hilfreicher Assistent und hilfst mir beim Thema künstliche Intelligenz\"\n",
    "user_prompt = \"\"\"\n",
    "Bitte fasse die wichtigsten Punkte des Artikels als eine Strichliste zusammen:\n",
    "\n",
    "Artikel:\n",
    "Starke und schwache KI\n",
    "\t\n",
    "Starke KI wären Computersysteme, die auf Augenhöhe mit Menschen die Arbeit zur Erledigung schwieriger Aufgaben übernehmen können. Demgegenüber geht es bei schwacher KI darum, konkrete Anwendungsprobleme zu meistern. Das menschliche Denken und technische Anwendungen sollen hier in Einzelbereichen unterstützt werden.[2] Die Fähigkeit zu lernen ist eine Hauptanforderung an KI-Systeme und muss ein integraler Bestandteil sein, der nicht erst nachträglich hinzugefügt werden darf. Ein zweites Hauptkriterium ist die Fähigkeit eines KI-Systems, mit Unsicherheit und probabilistischen Informationen umzugehen.[8] Insbesondere sind solche Anwendungen von Interesse, zu deren Lösung nach allgemeinem Verständnis eine Form von „Intelligenz“ notwendig zu sein scheint. Letztlich geht es der schwachen KI somit um die Simulation intelligenten Verhaltens mit Mitteln der Mathematik und der Informatik, es geht ihr nicht um Schaffung von Bewusstsein oder um ein tieferes Verständnis von Intelligenz. Während die Schaffung starker KI an ihrer philosophischen Fragestellung bis heute scheiterte, sind auf der Seite der schwachen KI in den letzten Jahren bedeutende Fortschritte erzielt worden.\n",
    "\n",
    "Ein starkes KI-System muss nicht viele Gemeinsamkeiten mit dem Menschen haben. Es wird wahrscheinlich eine andersartige kognitive Architektur aufweisen und in seinen Entwicklungsstadien ebenfalls nicht mit den evolutionären kognitiven Stadien des menschlichen Denkens vergleichbar sein (Evolution des Denkens). Vor allem ist nicht anzunehmen, dass eine künstliche Intelligenz Gefühle wie Liebe, Hass, Angst oder Freude besitzt.[9]\n",
    "\"\"\"\n",
    "\n",
    "messages = [\n",
    "    SystemMessage(content=system_prompt),\n",
    "    HumanMessage(content=user_prompt)\n",
    "    ]\n",
    "\n",
    "llm = ChatOpenAI()\n",
    "\n",
    "llm(messages)"
   ]
  },
  {
   "cell_type": "markdown",
   "metadata": {},
   "source": [
    "Das Beispiel zeigt, wie man \"zu Fuß\" den Kontext für die Aufgabenstellung aufbauen kann.\n",
    "\n",
    "# Prompt-Templates Grundlagen\n",
    "\n",
    "Schauen wir uns an, wie LangChain Prompt-Templates funktionieren"
   ]
  },
  {
   "cell_type": "code",
   "execution_count": null,
   "metadata": {},
   "outputs": [],
   "source": [
    "from langchain.prompts import PromptTemplate\n",
    "\n",
    "prompt_template = PromptTemplate.from_template(\n",
    "    \"Schlage mir zehn Namen für {ding} vor und formatiere die Ausgabe als {format}.\"\n",
    ")\n",
    "\n",
    "prompt_template.format(ding=\"Hunde\", format=\"HTML\")"
   ]
  },
  {
   "cell_type": "markdown",
   "metadata": {},
   "source": [
    "Das Beispiel zeigt die Grundfunktionalität eines basis Prompt-Templates. Es gibt eine Reihe von vordefinierten Prompt-Template-Klassen für unterschiedliche Anwendungsfälle. So gibt es z.B. das Template _FewShotChatMessagePromptTemplate_ das automatisch Beispiele für richtige und falsche Antworten in den Prompt einfügt, damit man das sog. _Few-Shot-Prompt_ aufbauen können. Darunter versteht man das Verfahren, bei dem man der KI hilft die Antwort korrekt aufzubauen, in dem man einige Beispiele für richtige Antworten nennt.\n",
    "\n",
    "Schauen wir uns das Beispiel von oben an, diesmal allerdings mit Prompt-Template."
   ]
  },
  {
   "cell_type": "code",
   "execution_count": null,
   "metadata": {},
   "outputs": [],
   "source": [
    "from langchain.prompts import ChatPromptTemplate\n",
    "from langchain.chat_models import ChatOpenAI\n",
    "from langchain.prompts.chat import SystemMessagePromptTemplate, HumanMessagePromptTemplate\n",
    "\n",
    "artikel = \"\"\"\n",
    "Starke und schwache KI\n",
    "\n",
    "Starke KI wären Computersysteme, die auf Augenhöhe mit Menschen die Arbeit zur Erledigung schwieriger Aufgaben übernehmen können. Demgegenüber geht es bei schwacher KI darum, konkrete Anwendungsprobleme zu meistern. Das menschliche Denken und technische Anwendungen sollen hier in Einzelbereichen unterstützt werden.[2] Die Fähigkeit zu lernen ist eine Hauptanforderung an KI-Systeme und muss ein integraler Bestandteil sein, der nicht erst nachträglich hinzugefügt werden darf. Ein zweites Hauptkriterium ist die Fähigkeit eines KI-Systems, mit Unsicherheit und probabilistischen Informationen umzugehen.[8] Insbesondere sind solche Anwendungen von Interesse, zu deren Lösung nach allgemeinem Verständnis eine Form von „Intelligenz“ notwendig zu sein scheint. Letztlich geht es der schwachen KI somit um die Simulation intelligenten Verhaltens mit Mitteln der Mathematik und der Informatik, es geht ihr nicht um Schaffung von Bewusstsein oder um ein tieferes Verständnis von Intelligenz. Während die Schaffung starker KI an ihrer philosophischen Fragestellung bis heute scheiterte, sind auf der Seite der schwachen KI in den letzten Jahren bedeutende Fortschritte erzielt worden.\n",
    "\n",
    "Ein starkes KI-System muss nicht viele Gemeinsamkeiten mit dem Menschen haben. Es wird wahrscheinlich eine andersartige kognitive Architektur aufweisen und in seinen Entwicklungsstadien ebenfalls nicht mit den evolutionären kognitiven Stadien des menschlichen Denkens vergleichbar sein (Evolution des Denkens). Vor allem ist nicht anzunehmen, dass eine künstliche Intelligenz Gefühle wie Liebe, Hass, Angst oder Freude besitzt.[9]\n",
    "\"\"\"\n",
    "\n",
    "system_prompt = \"Du bist ein hilfreicher Assistent und hilfst mir beim Thema {thema}\"\n",
    "user_prompt = \"\"\"\n",
    "Bitte fasse die wichtigsten Punkte des Artikels als eine Strichliste zusammen:\n",
    "\n",
    "Artikel:\n",
    "{artikel}\n",
    "\"\"\"\n",
    "\n",
    "template = ChatPromptTemplate.from_messages([\n",
    "    SystemMessagePromptTemplate.from_template(system_prompt),\n",
    "    HumanMessagePromptTemplate.from_template(user_prompt)\n",
    "    ])\n",
    "\n",
    "llm = ChatOpenAI()\n",
    "llm(template.format_messages(\n",
    "    thema=\"Künstliche Intelligenz\",\n",
    "    artikel=artikel\n",
    "))\n"
   ]
  },
  {
   "cell_type": "markdown",
   "metadata": {},
   "source": [
    "Folgendes Beispiel zeigt ein Prompt-Template, das automatisch Beispiele einfügt für das sog. _Few-Shot-Prompt_. Mit dieser Art von Prompts, kann man der KI beibringen, wie sie antworten soll. Wir geben als Beispiele an, wie eine richtige Antwort aussieht.\n",
    "Mit LangChain können wir das strukturiert angeben."
   ]
  },
  {
   "cell_type": "code",
   "execution_count": null,
   "metadata": {},
   "outputs": [],
   "source": [
    "from langchain.prompts import FewShotChatMessagePromptTemplate, ChatPromptTemplate\n",
    "from langchain.chat_models import ChatOpenAI\n",
    "\n",
    "beispiele = [\n",
    "    {\"input\": \"Was für ein wundervolles Produkt!\", \"output\": \"5 Sterne\"},\n",
    "    {\"input\": \"Würde ich nie wieder kaufen\", \"output\": \"1 Stern\"},\n",
    "    {\"input\": \"Das Ganze ist mittelmäßig gut\", \"output\": \"3 Sterne\"},\n",
    "    {\"input\": \"Habe noch nie bessere Kopfhörer gekauft!\", \"output\": \"5 Sterne\"},\n",
    "    {\"input\": \"Das sollen Kopfhörer sein? Die kann man höchstens als Elektroschrott bezeichnen!\", \"output\": \"1 Stern\"},\n",
    "]\n",
    "\n",
    "beispiel_prompt = ChatPromptTemplate.from_messages(\n",
    "    [\n",
    "        (\"user\", \"{input}\"),\n",
    "        (\"ai\", \"{output}\"),\n",
    "    ]\n",
    ")\n",
    "\n",
    "few_shot_prompt = FewShotChatMessagePromptTemplate(\n",
    "    example_prompt=beispiel_prompt,\n",
    "    examples=beispiele\n",
    ")\n",
    "\n",
    "print(few_shot_prompt.format())\n",
    "\n",
    "template = ChatPromptTemplate.from_messages(\n",
    "    [\n",
    "        (\"system\", \"Du bist ein Experte in Kundenmeinung\"),\n",
    "        few_shot_prompt,\n",
    "        (\"user\", \"{input}\"),\n",
    "    ]\n",
    ")\n",
    "\n",
    "llm = ChatOpenAI()\n",
    "\n",
    "response = llm(template.format_messages(\n",
    "    input=\"Ich habe diesen Toaster gekauft und er hat sehr gut funktioniert\"\n",
    "))\n",
    "print(response)\n",
    "\n",
    "\n",
    "response = llm(template.format_messages(\n",
    "    input=\"Nie wieder! Ich schicke den Staubsauger morgen zurück!\"\n",
    "))\n",
    "print(response)"
   ]
  }
 ],
 "metadata": {
  "kernelspec": {
   "display_name": "Python 3",
   "language": "python",
   "name": "python3"
  },
  "language_info": {
   "codemirror_mode": {
    "name": "ipython",
    "version": 3
   },
   "file_extension": ".py",
   "mimetype": "text/x-python",
   "name": "python",
   "nbconvert_exporter": "python",
   "pygments_lexer": "ipython3",
   "version": "3.10.8"
  }
 },
 "nbformat": 4,
 "nbformat_minor": 2
}
