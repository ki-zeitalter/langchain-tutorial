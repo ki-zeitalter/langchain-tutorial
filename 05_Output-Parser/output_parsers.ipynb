{
 "cells": [
  {
   "cell_type": "markdown",
   "metadata": {},
   "source": [
    "# Output-Parser\n",
    "\n",
    "Wenn wir KI/Sprachmodelle in unsere Anwendung integrieren, dann ist es sicherlich sehr nützlich, wenn wir die Antworten der KI programmatisch verarbeiten können.\n",
    "Da die KI immer nur Text zurückliefert, müssen wir also die Antwort parsen, z.B. um eine Dictionary zu erstellen.\n",
    "Es gibt viele Anwendungsfälle, z.B. könnten wir ein Programm schreiben, das die Aufgabe hat Bewertungskommentare auszuwerten. Also sowas wie kurze Zusammenfassung, positiv/negativ, Sprache usw.\n",
    "Schauen wir uns erstmal das Ganze ohne das Parsen an"
   ]
  },
  {
   "cell_type": "code",
   "execution_count": 1,
   "metadata": {},
   "outputs": [
    {
     "name": "stdout",
     "output_type": "stream",
     "text": [
      "Zusammenfassungen:\n",
      "1. Das Produkt wird als toll und beeindruckend mit guter Bildqualität bewertet und der Kunde würde es wieder bestellen.\n",
      "2. Der Kunde hat das Produkt letzten Monat gekauft, aber noch nicht getestet und plant dies in den nächsten Wochen zu tun.\n",
      "3. Der Kunde ist unsicher und findet das Bild unscharf und die Farben blass. Er würde das Produkt nicht empfehlen.\n",
      "\n",
      "Bewertungen:\n",
      "1. Positiv\n",
      "2. Neutral\n",
      "3. Negativ\n",
      "\n",
      "Sprache:\n",
      "1. Deutsch\n",
      "2. Englisch\n",
      "3. Deutsch\n"
     ]
    }
   ],
   "source": [
    "from langchain.chat_models import ChatOpenAI\n",
    "from langchain.chains import LLMChain\n",
    "from langchain.prompts import PromptTemplate\n",
    "\n",
    "bewertungen = [\n",
    "    \"Das ist wirklich ein tolles Produkt! Ich würde es auf jeden Fall nochmal bestellen. Besonders die Bildqualität finde ich beeindruckend!\",\n",
    "    \"I bought this product last month. I haven't tested it until now. I will do that during the next few weeks.\",\n",
    "    \"Ich weiß nicht was ich davon halten soll. Das Bild ist nicht scharf und die Farben sind blass. Ich würde es eher nicht empfehlen!\"\n",
    "]\n",
    "\n",
    "prompt = (\n",
    "    PromptTemplate.from_template(\n",
    "        \"\"\"Bitte analysiere folgende Bewertungskommentare. Erstelle für jeden Kommentar eine Zusammenfassung als einen Satz.\n",
    "        Analysiere ausserdem ob die Kommentare positiv, neutral oder negativ sind.\n",
    "        Gebe ausserdem die Sprache des Kommentars aus.\n",
    "\n",
    "        Die Kommentare:\n",
    "        {comments}\n",
    "        \"\"\")\n",
    ")\n",
    "\n",
    "chain = LLMChain(llm=ChatOpenAI(), prompt=prompt)\n",
    "\n",
    "response = chain.run(comments=bewertungen)\n",
    "\n",
    "print(response)"
   ]
  },
  {
   "cell_type": "markdown",
   "metadata": {},
   "source": [
    "Die KI hat die Aufgabe korrekt ausgeführt. Allerdings ist sie nicht optimal, wenn wir das z.B. als Datenstruktur in unserem Programm haben möchten, z.B. um es in einer Datenbank zu speichern oder um die Daten irgendwie in einer Oberfläche darzustellen.\n",
    "\n",
    "Wir können aber das Format auch vorgeben. Machen wir das erstmal ohne die _Magie_ von LangChain."
   ]
  },
  {
   "cell_type": "code",
   "execution_count": 2,
   "metadata": {},
   "outputs": [
    {
     "name": "stdout",
     "output_type": "stream",
     "text": [
      "{\n",
      "  \"comments\": [\n",
      "    {\n",
      "      \"summary\": \"Das ist wirklich ein tolles Produkt! Ich würde es auf jeden Fall nochmal bestellen. Besonders die Bildqualität finde ich beeindruckend!\",\n",
      "      \"sentiment\": \"positiv\",\n",
      "      \"language\": \"Deutsch\"\n",
      "    },\n",
      "    {\n",
      "      \"summary\": \"I bought this product last month. I haven't tested it until now. I will do that during the next few weeks.\",\n",
      "      \"sentiment\": \"neutral\",\n",
      "      \"language\": \"Englisch\"\n",
      "    },\n",
      "    {\n",
      "      \"summary\": \"Ich weiß nicht was ich davon halten soll. Das Bild ist nicht scharf und die Farben sind blass. Ich würde es eher nicht empfehlen!\",\n",
      "      \"sentiment\": \"negativ\",\n",
      "      \"language\": \"Deutsch\"\n",
      "    }\n",
      "  ]\n",
      "}\n"
     ]
    }
   ],
   "source": [
    "from langchain.chat_models import ChatOpenAI\n",
    "from langchain.chains import LLMChain\n",
    "from langchain.prompts import PromptTemplate\n",
    "\n",
    "bewertungen = [\n",
    "    \"Das ist wirklich ein tolles Produkt! Ich würde es auf jeden Fall nochmal bestellen. Besonders die Bildqualität finde ich beeindruckend!\",\n",
    "    \"I bought this product last month. I haven't tested it until now. I will do that during the next few weeks.\",\n",
    "    \"Ich weiß nicht was ich davon halten soll. Das Bild ist nicht scharf und die Farben sind blass. Ich würde es eher nicht empfehlen!\"\n",
    "]\n",
    "\n",
    "prompt = (\n",
    "    PromptTemplate.from_template(\n",
    "        \"\"\"Bitte analysiere folgende Bewertungskommentare. Erstelle für jeden Kommentar eine Zusammenfassung als einen Satz.\n",
    "        Analysiere ausserdem ob die Kommentare positiv, neutral oder negativ sind.\n",
    "        Gebe ausserdem die Sprache des Kommentars aus.\n",
    "\n",
    "        Die Auswertung soll als JSON-Format ausgegeben werden. Felder: summary, sentiment, language\n",
    "\n",
    "        Die Kommentare:\n",
    "        {comments}\n",
    "        \"\"\")\n",
    ")\n",
    "\n",
    "chain = LLMChain(llm=ChatOpenAI(), prompt=prompt)\n",
    "\n",
    "response = chain.run(comments=bewertungen)\n",
    "\n",
    "print(response)"
   ]
  },
  {
   "cell_type": "markdown",
   "metadata": {},
   "source": [
    "Das ist schon wesentlich besser. LangChain hilft uns bei derartigen Aufgaben. Lasst uns schauen, wie man es mit LangChain macht"
   ]
  },
  {
   "cell_type": "code",
   "execution_count": 6,
   "metadata": {},
   "outputs": [
    {
     "name": "stdout",
     "output_type": "stream",
     "text": [
      "{'summary': 'Das ist wirklich ein tolles Produkt!', 'sentiment': 'positiv', 'language': 'Deutsch'}\n",
      "{'summary': \"I bought this product last month. I haven't tested it until now. I will do that during the next few weeks.\", 'sentiment': 'neutral', 'language': 'English'}\n",
      "{'summary': 'Ich weiß nicht was ich davon halten soll. Das Bild ist nicht scharf und die Farben sind blass. Ich würde es eher nicht empfehlen!', 'sentiment': 'negativ', 'language': 'de'}\n"
     ]
    }
   ],
   "source": [
    "from langchain.chat_models import ChatOpenAI\n",
    "from langchain.chains import LLMChain\n",
    "from langchain.prompts import PromptTemplate\n",
    "from langchain.output_parsers import StructuredOutputParser, ResponseSchema\n",
    "\n",
    "response_schemas = [\n",
    "    ResponseSchema(name=\"summary\", description=\"Die Zusammenfassung des Kommentars als ein Satz\"),\n",
    "    ResponseSchema(name=\"sentiment\", description=\"Ist der Kommentar positiv, negativ oder neutral\"),\n",
    "    ResponseSchema(name=\"language\", description=\"In welcher Sprache ist der Kommentar verfasst\")\n",
    "]\n",
    "output_parser = StructuredOutputParser.from_response_schemas(response_schemas)\n",
    "\n",
    "bewertungen = [\n",
    "    \"Das ist wirklich ein tolles Produkt! Ich würde es auf jeden Fall nochmal bestellen. Besonders die Bildqualität finde ich beeindruckend!\",\n",
    "    \"I bought this product last month. I haven't tested it until now. I will do that during the next few weeks.\",\n",
    "    \"Ich weiß nicht was ich davon halten soll. Das Bild ist nicht scharf und die Farben sind blass. Ich würde es eher nicht empfehlen!\"\n",
    "]\n",
    "\n",
    "format_instructions = output_parser.get_format_instructions()\n",
    "prompt = PromptTemplate(\n",
    "    template=\"Bitte analysiere folgenden Bewertungskommentar.\\n{format_instructions}\\n{comment}\",\n",
    "    input_variables=[\"comment\"],\n",
    "    partial_variables={\"format_instructions\": format_instructions}\n",
    ")\n",
    "\n",
    "chain = LLMChain(llm=ChatOpenAI(), prompt=prompt)\n",
    "\n",
    "for kommentar in bewertungen:\n",
    "    response = chain.run(comment=kommentar)\n",
    "    analysis = output_parser.parse(response)\n",
    "    \n"
   ]
  },
  {
   "cell_type": "code",
   "execution_count": 5,
   "metadata": {},
   "outputs": [
    {
     "name": "stdout",
     "output_type": "stream",
     "text": [
      "```json\n",
      "{\n",
      "\t\"summary\": \"Das ist wirklich ein tolles Produkt! Ich würde es auf jeden Fall nochmal bestellen. Besonders die Bildqualität finde ich beeindruckend!\",\n",
      "\t\"sentiment\": \"positiv\",\n",
      "\t\"language\": \"de\"\n",
      "},\n",
      "{\n",
      "\t\"summary\": \"I bought this product last month. I haven't tested it until now. I will do that during the next few weeks.\",\n",
      "\t\"sentiment\": \"neutral\",\n",
      "\t\"language\": \"en\"\n",
      "},\n",
      "{\n",
      "\t\"summary\": \"Ich weiß nicht was ich davon halten soll. Das Bild ist nicht scharf und die Farben sind blass. Ich würde es eher nicht empfehlen!\",\n",
      "\t\"sentiment\": \"negativ\",\n",
      "\t\"language\": \"de\"\n",
      "}\n",
      "```\n"
     ]
    },
    {
     "ename": "OutputParserException",
     "evalue": "Got invalid JSON object. Error: Extra data: line 5 column 2 (char 197)",
     "output_type": "error",
     "traceback": [
      "\u001b[0;31m---------------------------------------------------------------------------\u001b[0m",
      "\u001b[0;31mJSONDecodeError\u001b[0m                           Traceback (most recent call last)",
      "File \u001b[0;32m~/.python/current/lib/python3.10/site-packages/langchain/output_parsers/json.py:154\u001b[0m, in \u001b[0;36mparse_and_check_json_markdown\u001b[0;34m(text, expected_keys)\u001b[0m\n\u001b[1;32m    153\u001b[0m \u001b[39mtry\u001b[39;00m:\n\u001b[0;32m--> 154\u001b[0m     json_obj \u001b[39m=\u001b[39m parse_json_markdown(text)\n\u001b[1;32m    155\u001b[0m \u001b[39mexcept\u001b[39;00m json\u001b[39m.\u001b[39mJSONDecodeError \u001b[39mas\u001b[39;00m e:\n",
      "File \u001b[0;32m~/.python/current/lib/python3.10/site-packages/langchain/output_parsers/json.py:136\u001b[0m, in \u001b[0;36mparse_json_markdown\u001b[0;34m(json_string, parser)\u001b[0m\n\u001b[1;32m    135\u001b[0m \u001b[39m# Parse the JSON string into a Python dictionary\u001b[39;00m\n\u001b[0;32m--> 136\u001b[0m parsed \u001b[39m=\u001b[39m parser(json_str)\n\u001b[1;32m    138\u001b[0m \u001b[39mreturn\u001b[39;00m parsed\n",
      "File \u001b[0;32m~/.python/current/lib/python3.10/json/__init__.py:346\u001b[0m, in \u001b[0;36mloads\u001b[0;34m(s, cls, object_hook, parse_float, parse_int, parse_constant, object_pairs_hook, **kw)\u001b[0m\n\u001b[1;32m    343\u001b[0m \u001b[39mif\u001b[39;00m (\u001b[39mcls\u001b[39m \u001b[39mis\u001b[39;00m \u001b[39mNone\u001b[39;00m \u001b[39mand\u001b[39;00m object_hook \u001b[39mis\u001b[39;00m \u001b[39mNone\u001b[39;00m \u001b[39mand\u001b[39;00m\n\u001b[1;32m    344\u001b[0m         parse_int \u001b[39mis\u001b[39;00m \u001b[39mNone\u001b[39;00m \u001b[39mand\u001b[39;00m parse_float \u001b[39mis\u001b[39;00m \u001b[39mNone\u001b[39;00m \u001b[39mand\u001b[39;00m\n\u001b[1;32m    345\u001b[0m         parse_constant \u001b[39mis\u001b[39;00m \u001b[39mNone\u001b[39;00m \u001b[39mand\u001b[39;00m object_pairs_hook \u001b[39mis\u001b[39;00m \u001b[39mNone\u001b[39;00m \u001b[39mand\u001b[39;00m \u001b[39mnot\u001b[39;00m kw):\n\u001b[0;32m--> 346\u001b[0m     \u001b[39mreturn\u001b[39;00m _default_decoder\u001b[39m.\u001b[39;49mdecode(s)\n\u001b[1;32m    347\u001b[0m \u001b[39mif\u001b[39;00m \u001b[39mcls\u001b[39m \u001b[39mis\u001b[39;00m \u001b[39mNone\u001b[39;00m:\n",
      "File \u001b[0;32m~/.python/current/lib/python3.10/json/decoder.py:340\u001b[0m, in \u001b[0;36mJSONDecoder.decode\u001b[0;34m(self, s, _w)\u001b[0m\n\u001b[1;32m    339\u001b[0m \u001b[39mif\u001b[39;00m end \u001b[39m!=\u001b[39m \u001b[39mlen\u001b[39m(s):\n\u001b[0;32m--> 340\u001b[0m     \u001b[39mraise\u001b[39;00m JSONDecodeError(\u001b[39m\"\u001b[39m\u001b[39mExtra data\u001b[39m\u001b[39m\"\u001b[39m, s, end)\n\u001b[1;32m    341\u001b[0m \u001b[39mreturn\u001b[39;00m obj\n",
      "\u001b[0;31mJSONDecodeError\u001b[0m: Extra data: line 5 column 2 (char 197)",
      "\nDuring handling of the above exception, another exception occurred:\n",
      "\u001b[0;31mOutputParserException\u001b[0m                     Traceback (most recent call last)",
      "\u001b[1;32m/workspaces/langchain-tutorial/05_Output-Parser/output_parsers.ipynb Zelle 7\u001b[0m line \u001b[0;36m2\n\u001b[1;32m      <a href='vscode-notebook-cell://codespaces%2Bminiature-zebra-ww6g7jp967gf9656/workspaces/langchain-tutorial/05_Output-Parser/output_parsers.ipynb#W6sdnNjb2RlLXJlbW90ZQ%3D%3D?line=0'>1</a>\u001b[0m \u001b[39mprint\u001b[39m(analysis)\n\u001b[0;32m----> <a href='vscode-notebook-cell://codespaces%2Bminiature-zebra-ww6g7jp967gf9656/workspaces/langchain-tutorial/05_Output-Parser/output_parsers.ipynb#W6sdnNjb2RlLXJlbW90ZQ%3D%3D?line=1'>2</a>\u001b[0m output_parser\u001b[39m.\u001b[39;49mparse(analysis)\n",
      "File \u001b[0;32m~/.python/current/lib/python3.10/site-packages/langchain/output_parsers/structured.py:95\u001b[0m, in \u001b[0;36mStructuredOutputParser.parse\u001b[0;34m(self, text)\u001b[0m\n\u001b[1;32m     93\u001b[0m \u001b[39mdef\u001b[39;00m \u001b[39mparse\u001b[39m(\u001b[39mself\u001b[39m, text: \u001b[39mstr\u001b[39m) \u001b[39m-\u001b[39m\u001b[39m>\u001b[39m Any:\n\u001b[1;32m     94\u001b[0m     expected_keys \u001b[39m=\u001b[39m [rs\u001b[39m.\u001b[39mname \u001b[39mfor\u001b[39;00m rs \u001b[39min\u001b[39;00m \u001b[39mself\u001b[39m\u001b[39m.\u001b[39mresponse_schemas]\n\u001b[0;32m---> 95\u001b[0m     \u001b[39mreturn\u001b[39;00m parse_and_check_json_markdown(text, expected_keys)\n",
      "File \u001b[0;32m~/.python/current/lib/python3.10/site-packages/langchain/output_parsers/json.py:156\u001b[0m, in \u001b[0;36mparse_and_check_json_markdown\u001b[0;34m(text, expected_keys)\u001b[0m\n\u001b[1;32m    154\u001b[0m     json_obj \u001b[39m=\u001b[39m parse_json_markdown(text)\n\u001b[1;32m    155\u001b[0m \u001b[39mexcept\u001b[39;00m json\u001b[39m.\u001b[39mJSONDecodeError \u001b[39mas\u001b[39;00m e:\n\u001b[0;32m--> 156\u001b[0m     \u001b[39mraise\u001b[39;00m OutputParserException(\u001b[39mf\u001b[39m\u001b[39m\"\u001b[39m\u001b[39mGot invalid JSON object. Error: \u001b[39m\u001b[39m{\u001b[39;00me\u001b[39m}\u001b[39;00m\u001b[39m\"\u001b[39m)\n\u001b[1;32m    157\u001b[0m \u001b[39mfor\u001b[39;00m key \u001b[39min\u001b[39;00m expected_keys:\n\u001b[1;32m    158\u001b[0m     \u001b[39mif\u001b[39;00m key \u001b[39mnot\u001b[39;00m \u001b[39min\u001b[39;00m json_obj:\n",
      "\u001b[0;31mOutputParserException\u001b[0m: Got invalid JSON object. Error: Extra data: line 5 column 2 (char 197)"
     ]
    }
   ],
   "source": [
    "print(analysis)\n",
    "output_parser.parse(analysis)"
   ]
  }
 ],
 "metadata": {
  "kernelspec": {
   "display_name": "Python 3",
   "language": "python",
   "name": "python3"
  },
  "language_info": {
   "codemirror_mode": {
    "name": "ipython",
    "version": 3
   },
   "file_extension": ".py",
   "mimetype": "text/x-python",
   "name": "python",
   "nbconvert_exporter": "python",
   "pygments_lexer": "ipython3",
   "version": "3.10.8"
  }
 },
 "nbformat": 4,
 "nbformat_minor": 2
}
