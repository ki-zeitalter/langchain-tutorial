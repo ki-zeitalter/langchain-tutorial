{
 "cells": [
  {
   "cell_type": "markdown",
   "metadata": {},
   "source": [
    "# Chains\n",
    "\n",
    "Bis jetzt haben wir alle Bestandteile der API einzeln benutzt, d.h. wir haben direkt LLM aufgerufen oder das Template mit Daten versorgt.\n",
    "LangChain (daher der Name), bietet an diese Funktionen mit einander zu _Chains_ zu verketten. Das macht den Code noch übersichtlicher und macht es möglich für die verschiedenen Aufgabenbereiche alles als Chains zu organisieren.\n",
    "\n",
    "Schauen wir uns folgendes Beispiel an:"
   ]
  },
  {
   "cell_type": "code",
   "execution_count": 1,
   "metadata": {},
   "outputs": [
    {
     "name": "stdout",
     "output_type": "stream",
     "text": [
      "Mi piacciono molto i gatti!\n"
     ]
    }
   ],
   "source": [
    "from langchain.chat_models import ChatOpenAI\n",
    "from langchain.chains import LLMChain\n",
    "from langchain.prompts import PromptTemplate\n",
    "\n",
    "prompt = (\n",
    "    PromptTemplate.from_template(\"Bitte übersetze den folgenden Satz '{sentence}' in diese Sprache: {language}.\")\n",
    ")\n",
    "\n",
    "chain = LLMChain(llm=ChatOpenAI(), prompt=prompt)\n",
    "\n",
    "response = chain.run(sentence=\"Ich mag Katzen sehr gern!\", language=\"Italienisch\")\n",
    "\n",
    "print(response)"
   ]
  },
  {
   "cell_type": "markdown",
   "metadata": {},
   "source": [
    "Diese Kette vereint also die ganzen notwendigen Aufrufe. LLMChain ist eine sehr einfache Kette.\n",
    "Es gibt jedoch auch zahlreiche vordefinierte Chains: https://api.python.langchain.com/en/latest/api_reference.html#module-langchain.chains\n",
    "\n",
    "Im Zusammenhang mit Chat-Bots sind Chains sehr nützlich... mehr dazu im Kapitel \"Memory\"."
   ]
  }
 ],
 "metadata": {
  "kernelspec": {
   "display_name": "Python 3",
   "language": "python",
   "name": "python3"
  },
  "language_info": {
   "codemirror_mode": {
    "name": "ipython",
    "version": 3
   },
   "file_extension": ".py",
   "mimetype": "text/x-python",
   "name": "python",
   "nbconvert_exporter": "python",
   "pygments_lexer": "ipython3",
   "version": "3.10.8"
  }
 },
 "nbformat": 4,
 "nbformat_minor": 2
}
